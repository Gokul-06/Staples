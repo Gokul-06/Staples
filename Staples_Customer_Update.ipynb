{
  "nbformat": 4,
  "nbformat_minor": 0,
  "metadata": {
    "colab": {
      "provenance": [],
      "authorship_tag": "ABX9TyPf42jL+RrzcoC147FVltK7",
      "include_colab_link": true
    },
    "kernelspec": {
      "name": "python3",
      "display_name": "Python 3"
    },
    "language_info": {
      "name": "python"
    }
  },
  "cells": [
    {
      "cell_type": "markdown",
      "metadata": {
        "id": "view-in-github",
        "colab_type": "text"
      },
      "source": [
        "<a href=\"https://colab.research.google.com/github/Gokul-06/Staples/blob/main/Staples_Customer_Update.ipynb\" target=\"_parent\"><img src=\"https://colab.research.google.com/assets/colab-badge.svg\" alt=\"Open In Colab\"/></a>"
      ]
    },
    {
      "cell_type": "code",
      "execution_count": 1,
      "metadata": {
        "colab": {
          "base_uri": "https://localhost:8080/"
        },
        "id": "FByXrA-uL3vI",
        "outputId": "8c71f47c-9f05-47ba-8fe9-e6cf7bbb5d37"
      },
      "outputs": [
        {
          "output_type": "stream",
          "name": "stdout",
          "text": [
            "Requirement already satisfied: yfinance in /usr/local/lib/python3.10/dist-packages (0.2.37)\n",
            "Requirement already satisfied: psycopg2 in /usr/local/lib/python3.10/dist-packages (2.9.9)\n",
            "Requirement already satisfied: pandas>=1.3.0 in /usr/local/lib/python3.10/dist-packages (from yfinance) (2.0.3)\n",
            "Requirement already satisfied: numpy>=1.16.5 in /usr/local/lib/python3.10/dist-packages (from yfinance) (1.25.2)\n",
            "Requirement already satisfied: requests>=2.31 in /usr/local/lib/python3.10/dist-packages (from yfinance) (2.31.0)\n",
            "Requirement already satisfied: multitasking>=0.0.7 in /usr/local/lib/python3.10/dist-packages (from yfinance) (0.0.11)\n",
            "Requirement already satisfied: lxml>=4.9.1 in /usr/local/lib/python3.10/dist-packages (from yfinance) (4.9.4)\n",
            "Requirement already satisfied: appdirs>=1.4.4 in /usr/local/lib/python3.10/dist-packages (from yfinance) (1.4.4)\n",
            "Requirement already satisfied: pytz>=2022.5 in /usr/local/lib/python3.10/dist-packages (from yfinance) (2023.4)\n",
            "Requirement already satisfied: frozendict>=2.3.4 in /usr/local/lib/python3.10/dist-packages (from yfinance) (2.4.1)\n",
            "Requirement already satisfied: peewee>=3.16.2 in /usr/local/lib/python3.10/dist-packages (from yfinance) (3.17.1)\n",
            "Requirement already satisfied: beautifulsoup4>=4.11.1 in /usr/local/lib/python3.10/dist-packages (from yfinance) (4.12.3)\n",
            "Requirement already satisfied: html5lib>=1.1 in /usr/local/lib/python3.10/dist-packages (from yfinance) (1.1)\n",
            "Requirement already satisfied: soupsieve>1.2 in /usr/local/lib/python3.10/dist-packages (from beautifulsoup4>=4.11.1->yfinance) (2.5)\n",
            "Requirement already satisfied: six>=1.9 in /usr/local/lib/python3.10/dist-packages (from html5lib>=1.1->yfinance) (1.16.0)\n",
            "Requirement already satisfied: webencodings in /usr/local/lib/python3.10/dist-packages (from html5lib>=1.1->yfinance) (0.5.1)\n",
            "Requirement already satisfied: python-dateutil>=2.8.2 in /usr/local/lib/python3.10/dist-packages (from pandas>=1.3.0->yfinance) (2.8.2)\n",
            "Requirement already satisfied: tzdata>=2022.1 in /usr/local/lib/python3.10/dist-packages (from pandas>=1.3.0->yfinance) (2024.1)\n",
            "Requirement already satisfied: charset-normalizer<4,>=2 in /usr/local/lib/python3.10/dist-packages (from requests>=2.31->yfinance) (3.3.2)\n",
            "Requirement already satisfied: idna<4,>=2.5 in /usr/local/lib/python3.10/dist-packages (from requests>=2.31->yfinance) (3.6)\n",
            "Requirement already satisfied: urllib3<3,>=1.21.1 in /usr/local/lib/python3.10/dist-packages (from requests>=2.31->yfinance) (2.0.7)\n",
            "Requirement already satisfied: certifi>=2017.4.17 in /usr/local/lib/python3.10/dist-packages (from requests>=2.31->yfinance) (2024.2.2)\n"
          ]
        }
      ],
      "source": [
        "  pip install yfinance psycopg2\n"
      ]
    },
    {
      "cell_type": "code",
      "source": [
        "import yfinance as yf\n",
        "\n",
        "# Fetch data\n",
        "def fetch_stock_data(symbol):\n",
        "    stock = yf.Ticker(symbol)\n",
        "    hist = stock.history(period=\"1d\")\n",
        "    last_quote = hist.iloc[-1] # Get the most recent data point\n",
        "    return {\n",
        "        'symbol': symbol,\n",
        "        'price': last_quote['Close'],\n",
        "        'volume': last_quote['Volume']\n",
        "    }\n",
        "\n",
        "# Example usage\n",
        "stock_data = fetch_stock_data('PG')\n",
        "print(stock_data)\n"
      ],
      "metadata": {
        "colab": {
          "base_uri": "https://localhost:8080/"
        },
        "id": "LIoIAVREL7fO",
        "outputId": "b090116c-2893-44cc-cec9-d53b2bba47d1"
      },
      "execution_count": 2,
      "outputs": [
        {
          "output_type": "stream",
          "name": "stdout",
          "text": [
            "{'symbol': 'PG', 'price': 155.27000427246094, 'volume': 2096311.0}\n"
          ]
        }
      ]
    },
    {
      "cell_type": "code",
      "source": [
        "import mysql.connector\n",
        "import yfinance as yf\n",
        "\n",
        "def fetch_stock_data(symbol):\n",
        "    stock = yf.Ticker(symbol)\n",
        "    hist = stock.history(period=\"1d\")\n",
        "    last_quote = hist.iloc[-1]\n",
        "    return {\n",
        "        'symbol': symbol,\n",
        "        'price': last_quote['Close'],\n",
        "        'volume': last_quote['Volume']\n",
        "    }\n",
        "\n",
        "def update_database(stock_data):\n",
        "    # Connect to your SingleStore database with the provided details\n",
        "    connection = mysql.connector.connect(\n",
        "        user='admin',\n",
        "        password='Rules123',\n",
        "        host='svc-538d9a8e-2af0-4a3c-abf5-f797b0d6b9f0-dml.aws-virginia-6.svc.singlestore.com',\n",
        "        database='Staples',  # Replace 'your_database_name' with the name of your database\n",
        "        port=3306\n",
        "    )\n",
        "    cursor = connection.cursor()\n",
        "\n",
        "    # Insert or update stock data\n",
        "    update_query = \"\"\"INSERT INTO stock_prices (symbol, price, volume) VALUES (%s, %s, %s)\n",
        "                      ON DUPLICATE KEY UPDATE price = VALUES(price), volume = VALUES(volume);\"\"\"\n",
        "    cursor.execute(update_query, (stock_data['symbol'], stock_data['price'], stock_data['volume']))\n",
        "\n",
        "    connection.commit()\n",
        "    cursor.close()\n",
        "    connection.close()\n",
        "\n",
        "# Example usage\n",
        "stock_data = fetch_stock_data('PG')\n",
        "update_database(stock_data)\n"
      ],
      "metadata": {
        "id": "3zZ2xaEVMFgU"
      },
      "execution_count": 5,
      "outputs": []
    },
    {
      "cell_type": "code",
      "source": [
        "pip install mysql-connector-python yfinance"
      ],
      "metadata": {
        "colab": {
          "base_uri": "https://localhost:8080/"
        },
        "id": "HC5cgcgPMjbp",
        "outputId": "a8dc8194-c186-480a-805f-b6e81bbaeac4"
      },
      "execution_count": 3,
      "outputs": [
        {
          "output_type": "stream",
          "name": "stdout",
          "text": [
            "Collecting mysql-connector-python\n",
            "  Downloading mysql_connector_python-8.3.0-cp310-cp310-manylinux_2_17_x86_64.whl (21.5 MB)\n",
            "\u001b[2K     \u001b[90m━━━━━━━━━━━━━━━━━━━━━━━━━━━━━━━━━━━━━━━━\u001b[0m \u001b[32m21.5/21.5 MB\u001b[0m \u001b[31m38.3 MB/s\u001b[0m eta \u001b[36m0:00:00\u001b[0m\n",
            "\u001b[?25hRequirement already satisfied: yfinance in /usr/local/lib/python3.10/dist-packages (0.2.37)\n",
            "Requirement already satisfied: pandas>=1.3.0 in /usr/local/lib/python3.10/dist-packages (from yfinance) (2.0.3)\n",
            "Requirement already satisfied: numpy>=1.16.5 in /usr/local/lib/python3.10/dist-packages (from yfinance) (1.25.2)\n",
            "Requirement already satisfied: requests>=2.31 in /usr/local/lib/python3.10/dist-packages (from yfinance) (2.31.0)\n",
            "Requirement already satisfied: multitasking>=0.0.7 in /usr/local/lib/python3.10/dist-packages (from yfinance) (0.0.11)\n",
            "Requirement already satisfied: lxml>=4.9.1 in /usr/local/lib/python3.10/dist-packages (from yfinance) (4.9.4)\n",
            "Requirement already satisfied: appdirs>=1.4.4 in /usr/local/lib/python3.10/dist-packages (from yfinance) (1.4.4)\n",
            "Requirement already satisfied: pytz>=2022.5 in /usr/local/lib/python3.10/dist-packages (from yfinance) (2023.4)\n",
            "Requirement already satisfied: frozendict>=2.3.4 in /usr/local/lib/python3.10/dist-packages (from yfinance) (2.4.1)\n",
            "Requirement already satisfied: peewee>=3.16.2 in /usr/local/lib/python3.10/dist-packages (from yfinance) (3.17.1)\n",
            "Requirement already satisfied: beautifulsoup4>=4.11.1 in /usr/local/lib/python3.10/dist-packages (from yfinance) (4.12.3)\n",
            "Requirement already satisfied: html5lib>=1.1 in /usr/local/lib/python3.10/dist-packages (from yfinance) (1.1)\n",
            "Requirement already satisfied: soupsieve>1.2 in /usr/local/lib/python3.10/dist-packages (from beautifulsoup4>=4.11.1->yfinance) (2.5)\n",
            "Requirement already satisfied: six>=1.9 in /usr/local/lib/python3.10/dist-packages (from html5lib>=1.1->yfinance) (1.16.0)\n",
            "Requirement already satisfied: webencodings in /usr/local/lib/python3.10/dist-packages (from html5lib>=1.1->yfinance) (0.5.1)\n",
            "Requirement already satisfied: python-dateutil>=2.8.2 in /usr/local/lib/python3.10/dist-packages (from pandas>=1.3.0->yfinance) (2.8.2)\n",
            "Requirement already satisfied: tzdata>=2022.1 in /usr/local/lib/python3.10/dist-packages (from pandas>=1.3.0->yfinance) (2024.1)\n",
            "Requirement already satisfied: charset-normalizer<4,>=2 in /usr/local/lib/python3.10/dist-packages (from requests>=2.31->yfinance) (3.3.2)\n",
            "Requirement already satisfied: idna<4,>=2.5 in /usr/local/lib/python3.10/dist-packages (from requests>=2.31->yfinance) (3.6)\n",
            "Requirement already satisfied: urllib3<3,>=1.21.1 in /usr/local/lib/python3.10/dist-packages (from requests>=2.31->yfinance) (2.0.7)\n",
            "Requirement already satisfied: certifi>=2017.4.17 in /usr/local/lib/python3.10/dist-packages (from requests>=2.31->yfinance) (2024.2.2)\n",
            "Installing collected packages: mysql-connector-python\n",
            "Successfully installed mysql-connector-python-8.3.0\n"
          ]
        }
      ]
    },
    {
      "cell_type": "code",
      "source": [
        "import yfinance as yf\n",
        "import mysql.connector\n",
        "from datetime import datetime\n",
        "\n",
        "def fetch_stocks_data(symbols):\n",
        "    stock_data = []\n",
        "    # yfinance can handle multiple tickers at once, but consider splitting\n",
        "    # the request if it's too large\n",
        "    for i in range(0, len(symbols), 100):  # Example: Split list into chunks of 100\n",
        "        chunk = symbols[i:i + 100]\n",
        "        stocks = yf.Tickers(\" \".join(chunk))\n",
        "        hist = stocks.history(period=\"1d\")\n",
        "\n",
        "        for symbol in chunk:\n",
        "            data = hist.get(symbol)\n",
        "            if data is not None and not data.empty:\n",
        "                last_quote = data.iloc[-1]\n",
        "                stock_data.append({\n",
        "                    'symbol': symbol,\n",
        "                    'price': last_quote['Close'],\n",
        "                    'volume': last_quote['Volume'],\n",
        "                    'last_update': datetime.now().strftime('%Y-%m-%d %H:%M:%S')\n",
        "                })\n",
        "    return stock_data\n",
        "\n",
        "def update_database_bulk(stock_data):\n",
        "    connection = mysql.connector.connect(\n",
        "        user='admin', password='Rules123',\n",
        "        host='svc-538d9a8e-2af0-4a3c-abf5-f797b0d6b9f0-dml.aws-virginia-6.svc.singlestore.com',\n",
        "        database='stoc', port=3306)\n",
        "    cursor = connection.cursor()\n",
        "\n",
        "    update_query = \"\"\"\n",
        "    INSERT INTO stock_prices (symbol, price, volume, last_update)\n",
        "    VALUES (%s, %s, %s, %s)\n",
        "    ON DUPLICATE KEY UPDATE price = VALUES(price), volume = VALUES(volume), last_update = VALUES(last_update);\n",
        "    \"\"\"\n",
        "\n",
        "    # Bulk update\n",
        "    cursor.executemany(update_query, [(d['symbol'], d['price'], d['volume'], d['last_update']) for d in stock_data])\n",
        "\n",
        "    connection.commit()\n",
        "    cursor.close()\n",
        "    connection.close()\n",
        "\n",
        "# Assuming you have a list of S&P 500 stock symbols\n",
        "symbols = ['WMT', 'PG', 'COST']  # This should be your actual list of S&P 500 symbols\n",
        "stock_data = fetch_stocks_data(symbols)\n",
        "update_database_bulk(stock_data)"
      ],
      "metadata": {
        "colab": {
          "base_uri": "https://localhost:8080/"
        },
        "id": "02yhhTAsMo16",
        "outputId": "f9c84784-1be2-48b3-d7a7-85b24c013696"
      },
      "execution_count": 6,
      "outputs": [
        {
          "output_type": "stream",
          "name": "stderr",
          "text": [
            "[*********************100%%**********************]  3 of 3 completed\n"
          ]
        }
      ]
    },
    {
      "cell_type": "code",
      "source": [
        "symbols = ['WMT', 'PG', 'COST', 'NSRGY', 'KO', 'LRLCY', 'PEP', 'PM', 'UL', 'BUD']\n"
      ],
      "metadata": {
        "id": "2Fk7ZKd6MwdS"
      },
      "execution_count": 7,
      "outputs": []
    },
    {
      "cell_type": "code",
      "source": [
        "!pip install yfinance mysql-connector-python\n",
        "\n",
        "import time\n",
        "from datetime import datetime\n",
        "import yfinance as yf\n",
        "import mysql.connector\n",
        "\n",
        "# Corrected function to fetch stock data\n",
        "def fetch_stocks_data(symbols):\n",
        "    stock_data = []\n",
        "    for symbol in symbols:\n",
        "        stock = yf.Ticker(symbol)\n",
        "        hist = stock.history(period=\"1d\")\n",
        "        if not hist.empty:\n",
        "            last_quote = hist.iloc[-1]\n",
        "            stock_data.append({\n",
        "                'symbol': symbol,\n",
        "                'price': last_quote['Close'],\n",
        "                'volume': last_quote['Volume'],\n",
        "                'last_update': datetime.now().strftime('%Y-%m-%d %H:%M:%S')\n",
        "            })\n",
        "        else:\n",
        "            print(f\"No data found for {symbol}, symbol may be delisted\")\n",
        "    return stock_data\n",
        "\n",
        "# Function to update the database in bulk\n",
        "def update_database_bulk(stock_data):\n",
        "    connection = mysql.connector.connect(\n",
        "        user='admin', password='Rules123',\n",
        "        host='svc-538d9a8e-2af0-4a3c-abf5-f797b0d6b9f0-dml.aws-virginia-6.svc.singlestore.com',\n",
        "        database='Staples')  # Replace 'your_database_name' with your actual database name\n",
        "    cursor = connection.cursor()\n",
        "    update_query = \"\"\"\n",
        "    INSERT INTO stock_prices (symbol, price, volume, last_update)\n",
        "    VALUES (%s, %s, %s, %s)\n",
        "    ON DUPLICATE KEY UPDATE price = VALUES(price), volume = VALUES(volume), last_update = VALUES(last_update);\n",
        "    \"\"\"\n",
        "    cursor.executemany(update_query, [(d['symbol'], d['price'], d['volume'], d['last_update']) for d in stock_data])\n",
        "    connection.commit()\n",
        "    cursor.close()\n",
        "    connection.close()\n",
        "\n",
        "if __name__ == \"__main__\":\n",
        "    symbols = ['WMT', 'PG', 'COST', 'NSRGY', 'KO', 'LRLCY', 'PEP', 'PM', 'UL', 'BUD']\n",
        "    try:\n",
        "        while True:\n",
        "            stock_data = fetch_stocks_data(symbols)\n",
        "            if stock_data:  # Check if there's data to update\n",
        "                update_database_bulk(stock_data)\n",
        "                print(f\"Updated at {datetime.now()}\")\n",
        "            else:\n",
        "                print(\"No data fetched for update.\")\n",
        "            time.sleep(10)  # Sleep for 60 seconds before the next update\n",
        "    except KeyboardInterrupt:\n",
        "        print(\"Manual interrupt, stopping updates.\")\n"
      ],
      "metadata": {
        "colab": {
          "base_uri": "https://localhost:8080/"
        },
        "id": "aaSfBHCHOlRh",
        "outputId": "02ae3183-287f-4d5f-caa3-d3d870403420"
      },
      "execution_count": 8,
      "outputs": [
        {
          "output_type": "stream",
          "name": "stdout",
          "text": [
            "Requirement already satisfied: yfinance in /usr/local/lib/python3.10/dist-packages (0.2.37)\n",
            "Requirement already satisfied: mysql-connector-python in /usr/local/lib/python3.10/dist-packages (8.3.0)\n",
            "Requirement already satisfied: pandas>=1.3.0 in /usr/local/lib/python3.10/dist-packages (from yfinance) (2.0.3)\n",
            "Requirement already satisfied: numpy>=1.16.5 in /usr/local/lib/python3.10/dist-packages (from yfinance) (1.25.2)\n",
            "Requirement already satisfied: requests>=2.31 in /usr/local/lib/python3.10/dist-packages (from yfinance) (2.31.0)\n",
            "Requirement already satisfied: multitasking>=0.0.7 in /usr/local/lib/python3.10/dist-packages (from yfinance) (0.0.11)\n",
            "Requirement already satisfied: lxml>=4.9.1 in /usr/local/lib/python3.10/dist-packages (from yfinance) (4.9.4)\n",
            "Requirement already satisfied: appdirs>=1.4.4 in /usr/local/lib/python3.10/dist-packages (from yfinance) (1.4.4)\n",
            "Requirement already satisfied: pytz>=2022.5 in /usr/local/lib/python3.10/dist-packages (from yfinance) (2023.4)\n",
            "Requirement already satisfied: frozendict>=2.3.4 in /usr/local/lib/python3.10/dist-packages (from yfinance) (2.4.1)\n",
            "Requirement already satisfied: peewee>=3.16.2 in /usr/local/lib/python3.10/dist-packages (from yfinance) (3.17.1)\n",
            "Requirement already satisfied: beautifulsoup4>=4.11.1 in /usr/local/lib/python3.10/dist-packages (from yfinance) (4.12.3)\n",
            "Requirement already satisfied: html5lib>=1.1 in /usr/local/lib/python3.10/dist-packages (from yfinance) (1.1)\n",
            "Requirement already satisfied: soupsieve>1.2 in /usr/local/lib/python3.10/dist-packages (from beautifulsoup4>=4.11.1->yfinance) (2.5)\n",
            "Requirement already satisfied: six>=1.9 in /usr/local/lib/python3.10/dist-packages (from html5lib>=1.1->yfinance) (1.16.0)\n",
            "Requirement already satisfied: webencodings in /usr/local/lib/python3.10/dist-packages (from html5lib>=1.1->yfinance) (0.5.1)\n",
            "Requirement already satisfied: python-dateutil>=2.8.2 in /usr/local/lib/python3.10/dist-packages (from pandas>=1.3.0->yfinance) (2.8.2)\n",
            "Requirement already satisfied: tzdata>=2022.1 in /usr/local/lib/python3.10/dist-packages (from pandas>=1.3.0->yfinance) (2024.1)\n",
            "Requirement already satisfied: charset-normalizer<4,>=2 in /usr/local/lib/python3.10/dist-packages (from requests>=2.31->yfinance) (3.3.2)\n",
            "Requirement already satisfied: idna<4,>=2.5 in /usr/local/lib/python3.10/dist-packages (from requests>=2.31->yfinance) (3.6)\n",
            "Requirement already satisfied: urllib3<3,>=1.21.1 in /usr/local/lib/python3.10/dist-packages (from requests>=2.31->yfinance) (2.0.7)\n",
            "Requirement already satisfied: certifi>=2017.4.17 in /usr/local/lib/python3.10/dist-packages (from requests>=2.31->yfinance) (2024.2.2)\n",
            "Updated at 2024-04-12 16:53:51.547444\n",
            "Updated at 2024-04-12 16:54:02.991635\n",
            "Updated at 2024-04-12 16:54:14.357829\n",
            "Manual interrupt, stopping updates.\n"
          ]
        }
      ]
    }
  ]
}